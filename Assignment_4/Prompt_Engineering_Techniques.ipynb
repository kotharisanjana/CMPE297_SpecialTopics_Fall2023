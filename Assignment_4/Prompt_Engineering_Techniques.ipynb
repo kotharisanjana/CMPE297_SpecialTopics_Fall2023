{
  "nbformat": 4,
  "nbformat_minor": 0,
  "metadata": {
    "colab": {
      "provenance": [],
      "authorship_tag": "ABX9TyOqe9xu5b1714Ett80tL0rh",
      "include_colab_link": true
    },
    "kernelspec": {
      "name": "python3",
      "display_name": "Python 3"
    },
    "language_info": {
      "name": "python"
    }
  },
  "cells": [
    {
      "cell_type": "markdown",
      "metadata": {
        "id": "view-in-github",
        "colab_type": "text"
      },
      "source": [
        "<a href=\"https://colab.research.google.com/github/kotharisanjana/CMPE297_SpecialTopics_Fall2023/blob/main/Assignment_4/Prompt_Engineering_Techniques.ipynb\" target=\"_parent\"><img src=\"https://colab.research.google.com/assets/colab-badge.svg\" alt=\"Open In Colab\"/></a>"
      ]
    },
    {
      "cell_type": "code",
      "execution_count": null,
      "metadata": {
        "colab": {
          "base_uri": "https://localhost:8080/"
        },
        "id": "seREPaTdQbiA",
        "outputId": "c4d339f3-1eca-4ed2-c355-ac271a47237a"
      },
      "outputs": [
        {
          "output_type": "stream",
          "name": "stdout",
          "text": [
            "Collecting openai\n",
            "  Downloading openai-0.28.1-py3-none-any.whl (76 kB)\n",
            "\u001b[?25l     \u001b[90m━━━━━━━━━━━━━━━━━━━━━━━━━━━━━━━━━━━━━━━━\u001b[0m \u001b[32m0.0/77.0 kB\u001b[0m \u001b[31m?\u001b[0m eta \u001b[36m-:--:--\u001b[0m\r\u001b[2K     \u001b[91m━━━━━━━━━━━━━━━━━━━━━━━━━━━━━━━━━━━━━\u001b[0m\u001b[90m╺\u001b[0m\u001b[90m━━\u001b[0m \u001b[32m71.7/77.0 kB\u001b[0m \u001b[31m2.2 MB/s\u001b[0m eta \u001b[36m0:00:01\u001b[0m\r\u001b[2K     \u001b[90m━━━━━━━━━━━━━━━━━━━━━━━━━━━━━━━━━━━━━━━━\u001b[0m \u001b[32m77.0/77.0 kB\u001b[0m \u001b[31m2.0 MB/s\u001b[0m eta \u001b[36m0:00:00\u001b[0m\n",
            "\u001b[?25hRequirement already satisfied: requests>=2.20 in /usr/local/lib/python3.10/dist-packages (from openai) (2.31.0)\n",
            "Requirement already satisfied: tqdm in /usr/local/lib/python3.10/dist-packages (from openai) (4.66.1)\n",
            "Requirement already satisfied: aiohttp in /usr/local/lib/python3.10/dist-packages (from openai) (3.8.6)\n",
            "Requirement already satisfied: charset-normalizer<4,>=2 in /usr/local/lib/python3.10/dist-packages (from requests>=2.20->openai) (3.3.0)\n",
            "Requirement already satisfied: idna<4,>=2.5 in /usr/local/lib/python3.10/dist-packages (from requests>=2.20->openai) (3.4)\n",
            "Requirement already satisfied: urllib3<3,>=1.21.1 in /usr/local/lib/python3.10/dist-packages (from requests>=2.20->openai) (2.0.7)\n",
            "Requirement already satisfied: certifi>=2017.4.17 in /usr/local/lib/python3.10/dist-packages (from requests>=2.20->openai) (2023.7.22)\n",
            "Requirement already satisfied: attrs>=17.3.0 in /usr/local/lib/python3.10/dist-packages (from aiohttp->openai) (23.1.0)\n",
            "Requirement already satisfied: multidict<7.0,>=4.5 in /usr/local/lib/python3.10/dist-packages (from aiohttp->openai) (6.0.4)\n",
            "Requirement already satisfied: async-timeout<5.0,>=4.0.0a3 in /usr/local/lib/python3.10/dist-packages (from aiohttp->openai) (4.0.3)\n",
            "Requirement already satisfied: yarl<2.0,>=1.0 in /usr/local/lib/python3.10/dist-packages (from aiohttp->openai) (1.9.2)\n",
            "Requirement already satisfied: frozenlist>=1.1.1 in /usr/local/lib/python3.10/dist-packages (from aiohttp->openai) (1.4.0)\n",
            "Requirement already satisfied: aiosignal>=1.1.2 in /usr/local/lib/python3.10/dist-packages (from aiohttp->openai) (1.3.1)\n",
            "Installing collected packages: openai\n",
            "\u001b[31mERROR: pip's dependency resolver does not currently take into account all the packages that are installed. This behaviour is the source of the following dependency conflicts.\n",
            "llmx 0.0.15a0 requires cohere, which is not installed.\n",
            "llmx 0.0.15a0 requires tiktoken, which is not installed.\u001b[0m\u001b[31m\n",
            "\u001b[0mSuccessfully installed openai-0.28.1\n"
          ]
        }
      ],
      "source": [
        "!pip install openai"
      ]
    },
    {
      "cell_type": "code",
      "source": [
        "import openai"
      ],
      "metadata": {
        "id": "XjeRy7tHRJhr"
      },
      "execution_count": null,
      "outputs": []
    },
    {
      "cell_type": "code",
      "source": [
        "openai.api_key = \"\""
      ],
      "metadata": {
        "id": "Ug2ED4p4RO0y"
      },
      "execution_count": null,
      "outputs": []
    },
    {
      "cell_type": "code",
      "source": [
        "def generate(prompt):\n",
        "    response = openai.Completion.create(\n",
        "        model=\"text-davinci-003\",\n",
        "        prompt=prompt,\n",
        "        max_tokens=256,\n",
        "        temperature=0.5\n",
        "    )\n",
        "    answer = response.choices[0].text.strip()\n",
        "    print(answer)"
      ],
      "metadata": {
        "id": "4o5IvZs6RUYp"
      },
      "execution_count": 33,
      "outputs": []
    },
    {
      "cell_type": "markdown",
      "source": [
        "In-Context Learning"
      ],
      "metadata": {
        "id": "r5FLxTLNTEc0"
      }
    },
    {
      "cell_type": "code",
      "source": [
        "# incorrect prompting\n",
        "prompt = \"\"\"Translate the following English sentence to French: \"The cat sat on the mat.\"\"\"\n",
        "generate(prompt)"
      ],
      "metadata": {
        "colab": {
          "base_uri": "https://localhost:8080/"
        },
        "id": "KrBcv_MITLOn",
        "outputId": "969bbe25-90a6-473e-923d-aedaaca12468"
      },
      "execution_count": 21,
      "outputs": [
        {
          "output_type": "stream",
          "name": "stdout",
          "text": [
            "Le chat s'est assis sur le tapis.\n"
          ]
        }
      ]
    },
    {
      "cell_type": "code",
      "source": [
        "# modification\n",
        "prompt = \"\"\"\n",
        "        I am a translation assistant trained to translate English to French, considering specific cultural nuances and contexts.\n",
        "\n",
        "        Example 1:\n",
        "        English: \"Break a leg!\"\n",
        "        French: \"Bonne chance!\" (Good luck! - as \"Break a leg\" is an idiomatic expression)\n",
        "\n",
        "        Example 2:\n",
        "        English: \"Let the cat out of the bag.\"\n",
        "        French: \"Vendre la mèche.\" (Spill the beans - as it is an idiomatic expression)\n",
        "\n",
        "        Now, translate the following English sentence to French, considering idiomatic expressions as in the examples above:\n",
        "        English: \"The cat sat on the mat.\"\n",
        "        French:\n",
        "        \"\"\"\n",
        "\n",
        "generate(prompt)"
      ],
      "metadata": {
        "id": "IHuzyvLiSdPl",
        "colab": {
          "base_uri": "https://localhost:8080/"
        },
        "outputId": "af4d2568-1b95-4a49-86bd-27dac05c3d86"
      },
      "execution_count": 35,
      "outputs": [
        {
          "output_type": "stream",
          "name": "stdout",
          "text": [
            "Le chat était assis sur le tapis.\n"
          ]
        }
      ]
    },
    {
      "cell_type": "markdown",
      "source": [
        "Chain of Thought"
      ],
      "metadata": {
        "id": "bx2-7tURWSa1"
      }
    },
    {
      "cell_type": "code",
      "source": [
        "# incorrect prompting\n",
        "prompt = \"Calculate a 15% tip on a restaurant bill of $70.\"\n",
        "generate(prompt)"
      ],
      "metadata": {
        "colab": {
          "base_uri": "https://localhost:8080/"
        },
        "outputId": "1f40ff91-2154-4f12-9ff2-7197bb9f5742",
        "id": "A8EOO0KNWM8B"
      },
      "execution_count": 26,
      "outputs": [
        {
          "output_type": "stream",
          "name": "stdout",
          "text": [
            "$10.50\n"
          ]
        }
      ]
    },
    {
      "cell_type": "code",
      "source": [
        "# modification\n",
        "prompt = \"I need to calculate a 15% tip on a restaurant bill of $70. Can you show me the steps?\"\n",
        "generate(prompt)"
      ],
      "metadata": {
        "colab": {
          "base_uri": "https://localhost:8080/"
        },
        "outputId": "525f9c2b-e814-4c6b-bc9d-bd0418a10a0b",
        "id": "h2FkPiPzWM8D"
      },
      "execution_count": 34,
      "outputs": [
        {
          "output_type": "stream",
          "name": "stdout",
          "text": [
            "Step 1: Convert 15% to a decimal by dividing 15 by 100.\n",
            "\n",
            "15/100 = 0.15\n",
            "\n",
            "Step 2: Multiply the decimal by the bill amount.\n",
            "\n",
            "0.15 x 70 = 10.50\n",
            "\n",
            "Step 3: Add the tip to the bill amount.\n",
            "\n",
            "70 + 10.50 = 80.50\n",
            "\n",
            "The total amount with the 15% tip is $80.50.\n"
          ]
        }
      ]
    },
    {
      "cell_type": "markdown",
      "source": [
        "Tree of Thought"
      ],
      "metadata": {
        "id": "ZicNZ149WVxK"
      }
    },
    {
      "cell_type": "code",
      "source": [
        "# incorrect prompting\n",
        "prompt = \"I want a vacation destination. I’m looking for somewhere warm, with lots of outdoor activities and good food.\"\n",
        "generate(prompt)"
      ],
      "metadata": {
        "colab": {
          "base_uri": "https://localhost:8080/"
        },
        "outputId": "ffe5768c-ae6f-41ff-c213-f1aafbaf0526",
        "id": "6bsc25CzWO0j"
      },
      "execution_count": 36,
      "outputs": [
        {
          "output_type": "stream",
          "name": "stdout",
          "text": [
            "A great vacation destination for you would be Costa Rica. Not only is it warm year-round, but it also offers an abundance of outdoor activities, such as hiking, surfing, zip-lining, and snorkeling. Plus, Costa Rica's cuisine is delicious and diverse, with influences from Spanish, Caribbean, and Latin American flavors.\n"
          ]
        }
      ]
    },
    {
      "cell_type": "code",
      "source": [
        "# modification\n",
        "prompt = \"I'm looking for a vacation destination. I want somewhere warm, with lots of outdoor activities and good food. Can you analyze a few options for me?\"\n",
        "generate(prompt)"
      ],
      "metadata": {
        "colab": {
          "base_uri": "https://localhost:8080/"
        },
        "outputId": "2374d97e-2894-40f9-c602-0b740a18365d",
        "id": "C5Y4km85WO0l"
      },
      "execution_count": 37,
      "outputs": [
        {
          "output_type": "stream",
          "name": "stdout",
          "text": [
            "1. Costa Rica: Costa Rica is a great choice for a warm vacation destination with plenty of outdoor activities and delicious food. The country offers a variety of activities such as surfing, zip-lining, and rafting, as well as stunning beaches and national parks. Costa Rica is also known for its delicious, fresh seafood and traditional dishes like gallo pinto. \n",
            "\n",
            "2. Hawaii: Hawaii is another great option for a warm vacation destination with plenty of outdoor activities and delicious food. The islands offer stunning beaches, lush rainforests, and plenty of water activities. You can also explore the local culture and try traditional Hawaiian dishes like poke and laulau. \n",
            "\n",
            "3. Mexico: Mexico is another great choice for a warm vacation destination with plenty of outdoor activities and delicious food. The country offers plenty of beach activities, as well as cultural attractions like ancient ruins and colonial towns. Mexican cuisine is also renowned for its flavorful dishes like tacos, enchiladas, and mole.\n"
          ]
        }
      ]
    },
    {
      "cell_type": "markdown",
      "source": [
        "Graph of Thought"
      ],
      "metadata": {
        "id": "f3hCnrIYWXyS"
      }
    },
    {
      "cell_type": "code",
      "source": [
        "# incorrect prompting\n",
        "prompt = \"I have a new job offer. Should I take it?\"\n",
        "generate(prompt)"
      ],
      "metadata": {
        "colab": {
          "base_uri": "https://localhost:8080/"
        },
        "outputId": "a8b2ee2b-5850-4e08-c9fa-a0f072b146fd",
        "id": "K2y5H0IaWPJT"
      },
      "execution_count": 38,
      "outputs": [
        {
          "output_type": "stream",
          "name": "stdout",
          "text": [
            "That depends on a number of factors, including the type of job, the salary, the benefits, the location, and your current situation. Ultimately, the decision is yours to make. Before making a decision, it's important to weigh the pros and cons of each option, and consider how the new job will affect your life both now and in the future.\n"
          ]
        }
      ]
    },
    {
      "cell_type": "code",
      "source": [
        "# modification\n",
        "prompt = \"\"\"I have a new job offer. It pays 20% more than my current job, but it’s in a city with a higher cost of living, and I'm not sure about the work-life balance.\n",
        "          Should I take it? Can you help me analyze the different factors? Look at every aspect and give me a direction to think in\"\"\"\n",
        "generate(prompt)"
      ],
      "metadata": {
        "colab": {
          "base_uri": "https://localhost:8080/"
        },
        "id": "IjE9YnCWZ5vq",
        "outputId": "055c74e5-b32d-49ca-eab6-4448d131238c"
      },
      "execution_count": 46,
      "outputs": [
        {
          "output_type": "stream",
          "name": "stdout",
          "text": [
            ".\n",
            "\n",
            "When considering a new job offer, it's important to look at all the factors involved. Here are some questions to help you analyze the offer: \n",
            "\n",
            "1. What is the job? Is it a job you're passionate about? Does it provide opportunities for growth and advancement?\n",
            "\n",
            "2. What is the salary? Is the 20% increase enough to offset the higher cost of living?\n",
            "\n",
            "3. What is the work-life balance? Will you have enough time to enjoy the city and its amenities?\n",
            "\n",
            "4. What are the benefits? Are there any additional perks or benefits that could make the job more attractive?\n",
            "\n",
            "5. What are the long-term prospects? How secure is the job? Are there opportunities for advancement?\n",
            "\n",
            "6. What is the company culture? Is it a place where you would be comfortable working?\n",
            "\n",
            "By looking at all of these factors, you should be able to make an informed decision about whether or not the job is right for you.\n"
          ]
        }
      ]
    },
    {
      "cell_type": "markdown",
      "source": [
        "Algorithm of Thought"
      ],
      "metadata": {
        "id": "I7VM3P-TWaGX"
      }
    },
    {
      "cell_type": "code",
      "source": [
        "# incorrect prompting\n",
        "prompt = \"My computer won’t start. What should I do? Give one fix\"\n",
        "generate(prompt)"
      ],
      "metadata": {
        "colab": {
          "base_uri": "https://localhost:8080/"
        },
        "outputId": "e716d522-767a-4b23-954b-dff61055e894",
        "id": "c8afHf6jWPUr"
      },
      "execution_count": 51,
      "outputs": [
        {
          "output_type": "stream",
          "name": "stdout",
          "text": [
            "One fix would be to try a hard reset by powering off the computer and then unplugging it from the power source. Wait a few minutes and then plug it back in and turn it on. If this doesn't work, try checking the power cord and making sure it is securely connected to the computer and the power source. If the issue persists, it may be best to consult a professional technician for further assistance.\n"
          ]
        }
      ]
    },
    {
      "cell_type": "code",
      "source": [
        "# modification\n",
        "prompt = \"My computer won't start. What should I do? Can you guide me through the troubleshooting steps?\"\n",
        "generate(prompt)"
      ],
      "metadata": {
        "colab": {
          "base_uri": "https://localhost:8080/"
        },
        "outputId": "01528a85-e9a6-4622-edc7-b81144a179a0",
        "id": "O9bO3J07WPUu"
      },
      "execution_count": 48,
      "outputs": [
        {
          "output_type": "stream",
          "name": "stdout",
          "text": [
            "1. Check the power supply. Make sure the power cable is securely connected to the wall outlet and the computer.\n",
            "\n",
            "2. Check the power button. Make sure the power button is securely connected to the computer, and press it to see if the computer turns on.\n",
            "\n",
            "3. Check the monitor. Make sure the monitor is securely connected to the computer, and check if it is receiving power.\n",
            "\n",
            "4. Check the cables. Make sure all the cables are securely connected to the computer, and check if the cables are in good condition.\n",
            "\n",
            "5. Check the BIOS. Enter the BIOS setup menu by pressing the appropriate key or keys during the boot process, and check if the settings are correct.\n",
            "\n",
            "6. Check the memory. Make sure the memory modules are securely connected to the motherboard, and check if they are in good condition.\n",
            "\n",
            "7. Check the hard drive. Make sure the hard drive is securely connected to the motherboard, and check if it is receiving power.\n",
            "\n",
            "8. Check the operating system. Check if the operating system is installed correctly and if it is up-to-date.\n",
            "\n",
            "9. Check the system log. Check the system log for any errors or warnings that might indicate the cause of\n"
          ]
        }
      ]
    },
    {
      "cell_type": "markdown",
      "source": [
        "RASCEF"
      ],
      "metadata": {
        "id": "bZ5KTQ7PWbyJ"
      }
    },
    {
      "cell_type": "code",
      "source": [
        "# incorrect prompting\n",
        "prompt = \"Can you give me a chocolate cake recipe?\"\n",
        "generate(prompt)"
      ],
      "metadata": {
        "colab": {
          "base_uri": "https://localhost:8080/"
        },
        "outputId": "dbef0cff-975c-46a2-fdbc-fa10136f452d",
        "id": "kvnToLbVWPf2"
      },
      "execution_count": 54,
      "outputs": [
        {
          "output_type": "stream",
          "name": "stdout",
          "text": [
            "Chocolate Cake Recipe\n",
            "\n",
            "Ingredients:\n",
            "\n",
            "- 2 cups all-purpose flour\n",
            "- 2 cups granulated sugar\n",
            "- 3/4 cup cocoa powder\n",
            "- 2 teaspoons baking powder\n",
            "- 1 teaspoon baking soda\n",
            "- 1 teaspoon salt\n",
            "- 1 cup buttermilk\n",
            "- 1/2 cup vegetable oil\n",
            "- 2 large eggs\n",
            "- 1 teaspoon vanilla extract\n",
            "- 1 cup hot coffee\n",
            "\n",
            "Instructions:\n",
            "\n",
            "1. Preheat oven to 350 degrees F. Grease and flour two 9-inch round cake pans.\n",
            "\n",
            "2. In a large bowl, whisk together the flour, sugar, cocoa powder, baking powder, baking soda, and salt.\n",
            "\n",
            "3. In a separate bowl, whisk together the buttermilk, oil, eggs, and vanilla extract.\n",
            "\n",
            "4. Slowly add the wet ingredients to the dry ingredients and mix until just combined.\n",
            "\n",
            "5. Pour the batter into the prepared pans and bake for 25-30 minutes or until a toothpick inserted into the center comes out clean.\n",
            "\n",
            "6. Let the cakes cool in the pans for 10 minutes before transferring to a wire rack to cool completely.\n",
            "\n",
            "7. To make the frosting, mix together 1 cup of butter, 2\n"
          ]
        }
      ]
    },
    {
      "cell_type": "code",
      "source": [
        "# modification\n",
        "prompt = \"\"\"I am looking to bake a vegan chocolate cake, meaning the recipe should not contain any dairy or animal products.\n",
        "Could you provide a recipe with a list of ingredients and step-by-step instructions? Also, if there are any common non-vegan ingredients, please provide vegan substitutions.\n",
        "\"\"\"\n",
        "generate(prompt)"
      ],
      "metadata": {
        "colab": {
          "base_uri": "https://localhost:8080/"
        },
        "outputId": "faca385b-791d-40d4-c7c6-e6e4c43b16c7",
        "id": "H4nFmIQLWPf3"
      },
      "execution_count": 53,
      "outputs": [
        {
          "output_type": "stream",
          "name": "stdout",
          "text": [
            "Vegan Chocolate Cake\n",
            "Ingredients: \n",
            "- 2 cups all-purpose flour \n",
            "- 1 cup cocoa powder \n",
            "- 2 cups granulated sugar \n",
            "- 2 tsp baking powder \n",
            "- 1 tsp baking soda \n",
            "- 1/2 tsp salt \n",
            "- 2 cups almond milk \n",
            "- 1/2 cup vegetable oil \n",
            "- 2 tsp vanilla extract \n",
            "- 1/2 cup vegan chocolate chips \n",
            "\n",
            "Instructions:\n",
            "\n",
            "1. Preheat oven to 350°F (177°C). Grease and flour a 9-inch round cake pan.\n",
            "\n",
            "2. In a large bowl, whisk together the flour, cocoa powder, sugar, baking powder, baking soda, and salt.\n",
            "\n",
            "3. In a separate bowl, combine the almond milk, vegetable oil, and vanilla extract.\n",
            "\n",
            "4. Pour the wet ingredients into the dry ingredients and mix until just combined.\n",
            "\n",
            "5. Fold in the vegan chocolate chips.\n",
            "\n",
            "6. Pour the batter into the prepared cake pan and spread evenly.\n",
            "\n",
            "7. Bake for 30-35 minutes, or until a toothpick inserted into the center comes out clean.\n",
            "\n",
            "8. Allow the cake to cool completely before serving. Enjoy!\n"
          ]
        }
      ]
    },
    {
      "cell_type": "markdown",
      "source": [
        "ReAct"
      ],
      "metadata": {
        "id": "zGUiZbnAWeiw"
      }
    },
    {
      "cell_type": "code",
      "source": [
        "# incorrect prompting\n",
        "prompt = \"The software is not working.\"\n",
        "generate(prompt)"
      ],
      "metadata": {
        "colab": {
          "base_uri": "https://localhost:8080/"
        },
        "outputId": "a4f9cc51-40d6-4e0b-ce6b-795664d81e97",
        "id": "gW3fbQ9hWPo4"
      },
      "execution_count": 57,
      "outputs": [
        {
          "output_type": "stream",
          "name": "stdout",
          "text": [
            "If the software is not working, the first step should be to check the system requirements of the software to make sure the system meets the minimum requirements. If the system meets the requirements, then it is recommended to check the installation process to make sure the software was installed correctly. If the software was installed correctly, then it is recommended to check the software's documentation for troubleshooting steps or contact the software's support team for assistance.\n"
          ]
        }
      ]
    },
    {
      "cell_type": "code",
      "source": [
        "# modification\n",
        "prompt = \"\"\"I've already checked the system requirements and ensured that the software was installed correctly.\n",
        "However, the issue persists. The application crashes every time I try to open a specific project file.\n",
        "An error message pops up saying 'Unexpected Error Occurred'. What should I do to fix this?\"\"\"\n",
        "generate(prompt)"
      ],
      "metadata": {
        "colab": {
          "base_uri": "https://localhost:8080/"
        },
        "outputId": "a872d115-d40b-4c9e-e4f4-2a416b62c39f",
        "id": "0W_D7UVWWPo6"
      },
      "execution_count": 59,
      "outputs": [
        {
          "output_type": "stream",
          "name": "stdout",
          "text": [
            "1. Check for any updates to the software.\n",
            "2. Check for any corrupted files in the project folder.\n",
            "3. Check for any conflicting software installed on your computer.\n",
            "4. Try to repair the software.\n",
            "5. Try to reinstall the software.\n",
            "6. Try to open the project file on another computer.\n",
            "7. Contact the software developer for further assistance.\n"
          ]
        }
      ]
    },
    {
      "cell_type": "markdown",
      "source": [
        "Forest of Thought"
      ],
      "metadata": {
        "id": "nQHS4ARaWg5B"
      }
    },
    {
      "cell_type": "code",
      "source": [
        "# incorrect prompting\n",
        "prompt = \"I'm in charge of organizing a large conference, and I'm feeling overwhelmed. What should I do to calm down?\"\n",
        "generate(prompt)"
      ],
      "metadata": {
        "colab": {
          "base_uri": "https://localhost:8080/"
        },
        "outputId": "f7050fa5-fb35-424c-f68c-0d4ae66a3f7f",
        "id": "rgBAMYgtWg5C"
      },
      "execution_count": 62,
      "outputs": [
        {
          "output_type": "stream",
          "name": "stdout",
          "text": [
            "First, take a few deep breaths and focus on calming your mind and body. Next, break down the task into smaller, more manageable pieces. Create a timeline and prioritize the tasks that need to be done first. Then, delegate tasks to other people to help lighten the load. Finally, make sure to take regular breaks and practice self-care throughout the process.\n"
          ]
        }
      ]
    },
    {
      "cell_type": "code",
      "source": [
        "# modification\n",
        "prompt = \"I'm in charge of organizing a large conference for the first time, and I'm feeling overwhelmed. Can you help me figure out where to start and what I need to consider?\"\n",
        "generate(prompt)"
      ],
      "metadata": {
        "colab": {
          "base_uri": "https://localhost:8080/"
        },
        "outputId": "1870c935-31ff-43f9-f810-d01d1a8fcd14",
        "id": "YmrBTC8WWg5C"
      },
      "execution_count": 61,
      "outputs": [
        {
          "output_type": "stream",
          "name": "stdout",
          "text": [
            "1. Determine the date and location of the conference.\n",
            "2. Set a budget and determine the costs associated with the conference.\n",
            "3. Identify the conference theme and develop an agenda.\n",
            "4. Choose a venue and book the necessary space.\n",
            "5. Make arrangements for catering, audio/visual equipment, and other services.\n",
            "6. Develop a marketing plan to promote the event.\n",
            "7. Create a registration process and manage the registration list.\n",
            "8. Develop a plan for managing the conference on the day of the event.\n",
            "9. Develop a post-conference evaluation process to measure the success of the event.\n"
          ]
        }
      ]
    },
    {
      "cell_type": "code",
      "source": [],
      "metadata": {
        "id": "NP3BoeG4ddss"
      },
      "execution_count": null,
      "outputs": []
    }
  ]
}