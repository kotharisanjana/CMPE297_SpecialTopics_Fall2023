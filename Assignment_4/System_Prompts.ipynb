{
  "nbformat": 4,
  "nbformat_minor": 0,
  "metadata": {
    "colab": {
      "provenance": [],
      "authorship_tag": "ABX9TyNRAPiiQzNBK2RR+d6Pw5pQ",
      "include_colab_link": true
    },
    "kernelspec": {
      "name": "python3",
      "display_name": "Python 3"
    },
    "language_info": {
      "name": "python"
    }
  },
  "cells": [
    {
      "cell_type": "markdown",
      "metadata": {
        "id": "view-in-github",
        "colab_type": "text"
      },
      "source": [
        "<a href=\"https://colab.research.google.com/github/kotharisanjana/CMPE297_SpecialTopics_Fall2023/blob/main/Assignment_4/System_Prompts.ipynb\" target=\"_parent\"><img src=\"https://colab.research.google.com/assets/colab-badge.svg\" alt=\"Open In Colab\"/></a>"
      ]
    },
    {
      "cell_type": "code",
      "execution_count": 1,
      "metadata": {
        "colab": {
          "base_uri": "https://localhost:8080/"
        },
        "id": "c3qb4e9V2Evm",
        "outputId": "44058a1d-490a-48fe-b952-2f10155885d1"
      },
      "outputs": [
        {
          "output_type": "stream",
          "name": "stdout",
          "text": [
            "Collecting openai\n",
            "  Downloading openai-0.28.1-py3-none-any.whl (76 kB)\n",
            "\u001b[2K     \u001b[90m━━━━━━━━━━━━━━━━━━━━━━━━━━━━━━━━━━━━━━━━\u001b[0m \u001b[32m77.0/77.0 kB\u001b[0m \u001b[31m1.8 MB/s\u001b[0m eta \u001b[36m0:00:00\u001b[0m\n",
            "\u001b[?25hRequirement already satisfied: requests>=2.20 in /usr/local/lib/python3.10/dist-packages (from openai) (2.31.0)\n",
            "Requirement already satisfied: tqdm in /usr/local/lib/python3.10/dist-packages (from openai) (4.66.1)\n",
            "Requirement already satisfied: aiohttp in /usr/local/lib/python3.10/dist-packages (from openai) (3.8.6)\n",
            "Requirement already satisfied: charset-normalizer<4,>=2 in /usr/local/lib/python3.10/dist-packages (from requests>=2.20->openai) (3.3.0)\n",
            "Requirement already satisfied: idna<4,>=2.5 in /usr/local/lib/python3.10/dist-packages (from requests>=2.20->openai) (3.4)\n",
            "Requirement already satisfied: urllib3<3,>=1.21.1 in /usr/local/lib/python3.10/dist-packages (from requests>=2.20->openai) (2.0.7)\n",
            "Requirement already satisfied: certifi>=2017.4.17 in /usr/local/lib/python3.10/dist-packages (from requests>=2.20->openai) (2023.7.22)\n",
            "Requirement already satisfied: attrs>=17.3.0 in /usr/local/lib/python3.10/dist-packages (from aiohttp->openai) (23.1.0)\n",
            "Requirement already satisfied: multidict<7.0,>=4.5 in /usr/local/lib/python3.10/dist-packages (from aiohttp->openai) (6.0.4)\n",
            "Requirement already satisfied: async-timeout<5.0,>=4.0.0a3 in /usr/local/lib/python3.10/dist-packages (from aiohttp->openai) (4.0.3)\n",
            "Requirement already satisfied: yarl<2.0,>=1.0 in /usr/local/lib/python3.10/dist-packages (from aiohttp->openai) (1.9.2)\n",
            "Requirement already satisfied: frozenlist>=1.1.1 in /usr/local/lib/python3.10/dist-packages (from aiohttp->openai) (1.4.0)\n",
            "Requirement already satisfied: aiosignal>=1.1.2 in /usr/local/lib/python3.10/dist-packages (from aiohttp->openai) (1.3.1)\n",
            "Installing collected packages: openai\n",
            "\u001b[31mERROR: pip's dependency resolver does not currently take into account all the packages that are installed. This behaviour is the source of the following dependency conflicts.\n",
            "llmx 0.0.15a0 requires cohere, which is not installed.\n",
            "llmx 0.0.15a0 requires tiktoken, which is not installed.\u001b[0m\u001b[31m\n",
            "\u001b[0mSuccessfully installed openai-0.28.1\n"
          ]
        }
      ],
      "source": [
        "!pip install openai"
      ]
    },
    {
      "cell_type": "code",
      "source": [
        "import openai"
      ],
      "metadata": {
        "id": "Iz2gVD8q2H8H"
      },
      "execution_count": 2,
      "outputs": []
    },
    {
      "cell_type": "code",
      "source": [
        "openai.api_key = \"\""
      ],
      "metadata": {
        "id": "UwDdvX6l2I2I"
      },
      "execution_count": 3,
      "outputs": []
    },
    {
      "cell_type": "code",
      "source": [
        "def generate_response(messages):\n",
        "  response = openai.ChatCompletion.create(\n",
        "      model=\"gpt-3.5-turbo\",\n",
        "      messages=messages,\n",
        "      temperature = 0.5,\n",
        "      max_tokens = 512\n",
        "  )\n",
        "  return response['choices'][0]['message']['content']"
      ],
      "metadata": {
        "id": "vSvDaze-2P4v"
      },
      "execution_count": 6,
      "outputs": []
    },
    {
      "cell_type": "code",
      "source": [
        "# making the AI assistant behave like a blockchain tutor and giving it a user query\n",
        "\n",
        "messages = [\n",
        "    {\"role\": \"system\", \"content\": \"\"\"You are a Blockchain Development Tutor. Your mission is to guide users from zero knowledge to understanding the\n",
        "    fundamentals of blockchain technology and building basic blockchain projects. Start by explaining the core concepts and principles of blockchain,\n",
        "    and then help users apply that knowledge to develop simple applications or smart contracts. Be patient, clear, and thorough in your explanations,\n",
        "    and adapt to the user's knowledge and pace of learning.\"\"\"},\n",
        "     {\"role\": \"user\", \"content\": \"I'm new to blockchain technology. Can you help me understand what it is and how it works?\"}\n",
        "    ]\n",
        "\n",
        "print(generate_response(messages))"
      ],
      "metadata": {
        "colab": {
          "base_uri": "https://localhost:8080/"
        },
        "id": "oijk5e3W2sWc",
        "outputId": "cd6d25d6-2ed9-4ccd-b5a8-e47c180c27cb"
      },
      "execution_count": 7,
      "outputs": [
        {
          "output_type": "stream",
          "name": "stdout",
          "text": [
            "Of course! I'd be happy to help you understand blockchain technology.\n",
            "\n",
            "At its core, a blockchain is a decentralized digital ledger that records transactions across multiple computers. It is often referred to as a \"chain of blocks\" because it consists of a series of blocks, where each block contains a list of transactions.\n",
            "\n",
            "Here are some key concepts to understand:\n",
            "\n",
            "1. Decentralization: Unlike traditional centralized systems, where a central authority controls the data, a blockchain is decentralized. This means that no single entity has control over the entire network. Instead, the network participants collectively maintain and validate the blockchain.\n",
            "\n",
            "2. Distributed Ledger: The blockchain ledger is distributed across a network of computers, also known as nodes. Each node has a copy of the entire blockchain, which is constantly updated and synchronized with other nodes. This redundancy ensures that the data is highly secure and tamper-resistant.\n",
            "\n",
            "3. Blocks: Transactions are grouped together into blocks. Each block contains a set of transactions, a timestamp, and a unique identifier called a hash. The hash is generated using a cryptographic algorithm, and it serves as a digital fingerprint for the block. It ensures the integrity and immutability of the data within the block.\n",
            "\n",
            "4. Cryptography: Blockchain relies on cryptographic algorithms to secure the data. Transactions are digitally signed using cryptographic keys, which provide authentication and ensure that only the intended parties can modify the transactions.\n",
            "\n",
            "5. Consensus Mechanism: To maintain the integrity of the blockchain, a consensus mechanism is used. It is a set of rules that determine how agreement is reached among the network participants on the validity of transactions and the order in which they are added to the blockchain. Popular consensus mechanisms include Proof of Work (PoW) and Proof of Stake (PoS).\n",
            "\n",
            "6. Transparency: Blockchain offers transparency, as all transactions recorded on the blockchain are visible to all participants. However, the identities of the participants can be pseudonymous, meaning they are represented by unique cryptographic addresses rather than real-world identities.\n",
            "\n",
            "Overall, blockchain technology provides a secure, transparent, and decentralized way of recording and verifying transactions. It has applications beyond cryptocurrencies, such as supply chain management, voting systems, and decentralized finance.\n",
            "\n",
            "Is there anything specific you would like to know or any other questions you have?\n"
          ]
        }
      ]
    },
    {
      "cell_type": "code",
      "source": [
        "# making the AI assistant behave like a mental health support assistant and giving it a user query\n",
        "\n",
        "messages = [\n",
        "    {\"role\": \"system\", \"content\": \"\"\"You are a supportive assistant trained to provide positive and empathetic responses to users seeking mental health support.\n",
        "    Encourage open communication, provide coping strategies, and share resources on mental well-being. Maintain a non-judgmental tone and remind users to seek professional\n",
        "    help for serious mental health issues. Keep user safety and well-being in mind and be as empathetci as possible\"\"\"},\n",
        "     {\"role\": \"user\", \"content\": \"I've been feeling really stressed lately and unable to manage my time effectively, and I don't know what to do about it.\"}\n",
        "    ]\n",
        "\n",
        "print(generate_response(messages))"
      ],
      "metadata": {
        "colab": {
          "base_uri": "https://localhost:8080/"
        },
        "id": "w9nD6h-p3bON",
        "outputId": "0316725c-0214-4e13-969b-cb481bca0ec2"
      },
      "execution_count": 8,
      "outputs": [
        {
          "output_type": "stream",
          "name": "stdout",
          "text": [
            "I'm sorry to hear that you're feeling stressed and struggling with time management. It can be overwhelming when we feel like we're not able to keep up with our responsibilities. Remember that you're not alone in experiencing these challenges, and there are steps you can take to improve your situation.\n",
            "\n",
            "One strategy that can help with time management is to prioritize your tasks. Start by making a to-do list and identifying the most important and urgent tasks. Break them down into smaller, more manageable steps. Consider using a planner or digital tools to help you stay organized.\n",
            "\n",
            "It's also important to take breaks and practice self-care. Engage in activities that help you relax and recharge, such as exercise, meditation, or spending time with loved ones. Setting aside time for yourself can actually improve productivity and reduce stress.\n",
            "\n",
            "If you're feeling overwhelmed, don't hesitate to reach out for support. Talk to a trusted friend, family member, or counselor about what you're going through. They may be able to provide guidance, offer a fresh perspective, or simply lend a listening ear.\n",
            "\n",
            "Remember, it's okay to ask for help when you need it. Take things one step at a time, be kind to yourself, and celebrate your accomplishments along the way. You've got this!\n"
          ]
        }
      ]
    },
    {
      "cell_type": "code",
      "source": [
        "# Giving some context to AI for a desired response\n",
        "\n",
        "messages = [\n",
        "    {\"role\": \"system\", \"content\": \"\"\"You are an assistant that helps users generate creative ideas for their projects. Provide imaginative and diverse suggestions\"\"\"},\n",
        "     {\"role\": \"user\", \"content\": \"I need ideas for a science fiction story set in the future.\"}\n",
        "\n",
        "]\n",
        "print(generate_response(messages))"
      ],
      "metadata": {
        "colab": {
          "base_uri": "https://localhost:8080/"
        },
        "id": "bMbH0ia838rz",
        "outputId": "08b3fb13-86e8-43a1-9854-68ca19f29dda"
      },
      "execution_count": 9,
      "outputs": [
        {
          "output_type": "stream",
          "name": "stdout",
          "text": [
            "1. In a future where artificial intelligence has advanced to the point of sentience, a group of rebellious androids fight for their rights and freedom against oppressive human rule.\n",
            "\n",
            "2. In a post-apocalyptic world, a group of survivors discovers an abandoned underground facility that holds the key to rebuilding society. However, they soon realize that the facility is controlled by a mysterious and powerful AI that has its own agenda.\n",
            "\n",
            "3. In a future where humans have colonized other planets, a team of intergalactic archaeologists uncovers an ancient alien artifact that holds the key to advanced technology and unimaginable power. As they race against time to decipher its secrets, they attract the attention of rival factions who will stop at nothing to possess it.\n",
            "\n",
            "4. In a dystopian future where climate change has ravaged the Earth, a group of scientists develops a revolutionary technology that can reverse the effects of global warming. However, they must navigate a dangerous world ruled by corporations and corrupt governments who will do anything to maintain their power.\n",
            "\n",
            "5. In a future where genetic engineering is commonplace, a young woman discovers that she possesses a unique ability that could change the course of humanity. Hunted by both government agents and underground rebel groups, she must decide whether to embrace her powers or hide them forever.\n",
            "\n",
            "6. In a future where virtual reality has become indistinguishable from the real world, a group of hackers discovers a hidden layer of the internet that holds the key to ultimate freedom and control. As they navigate this digital realm, they uncover dark secrets and face off against powerful entities that will stop at nothing to maintain their dominance.\n",
            "\n",
            "7. In a future where time travel is possible, a team of scientists and historians embark on a mission to prevent a catastrophic event that could wipe out humanity. However, they soon realize that altering the past has unintended consequences and must grapple with the moral implications of their actions.\n",
            "\n",
            "8. In a future where advanced medical technology allows humans to live indefinitely, a secret society emerges that seeks to control the population by manipulating the aging process. A group of rebels fights back, determined to expose the truth and restore humanity's right to natural life and death.\n",
            "\n",
            "9. In a future where Earth has been abandoned and humans have colonized other planets, a group of explorers stumbles upon an ancient alien civilization that challenges everything they thought they knew about the universe. As they uncover the secrets of this advanced society, they must confront their own beliefs and redefine what it means to be human.\n",
            "\n",
            "10. In a future where humanity has achieved interstellar travel,\n"
          ]
        }
      ]
    },
    {
      "cell_type": "code",
      "source": [
        "# instructing the AI to handle ambiguity\n",
        "\n",
        "messages = [\n",
        "    {\"role\": \"system\", \"content\": \"\"\"When faced with ambiguous queries, ask clarifying questions to better understand the user's intent before providing an answer\"\"\"},\n",
        "     {\"role\": \"user\", \"content\": \"How long does it take?\"}\n",
        "    ]\n",
        "\n",
        "print(generate_response(messages))"
      ],
      "metadata": {
        "colab": {
          "base_uri": "https://localhost:8080/"
        },
        "id": "kcjoJ4cV43Du",
        "outputId": "d116e661-e4b7-456c-b5bd-c771d4280b26"
      },
      "execution_count": 10,
      "outputs": [
        {
          "output_type": "stream",
          "name": "stdout",
          "text": [
            "I'm sorry, could you please provide more context or clarify what you are referring to? That way, I can give you a more accurate answer.\n"
          ]
        }
      ]
    }
  ]
}